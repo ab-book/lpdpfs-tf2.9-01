{
 "cells": [
  {
   "cell_type": "code",
   "execution_count": null,
   "metadata": {},
   "outputs": [],
   "source": [
    "import os\n",
    "from keras.models import load_model\n",
    "from keras.preprocessing import image\n",
    "import  matplotlib.pyplot as plt\n",
    "import numpy as np\n",
    "os.environ['TF_CPP_MIN_LOG_LEVEL'] = '2'\n",
    "#单张图片的识别\n",
    "model = load_model('cats_and_dogs_cnn.h5')\n",
    "filename='CatorDog.jpg'\n",
    "img = image.load_img(filename, target_size=(150, 150))\n",
    "plt.imshow(img)\n",
    "plt.show()\n",
    "# 将图片转化为4d tensor形式\n",
    "x = image.img_to_array(img)\n",
    "print(x.shape) #(224, 224, 3)\n",
    "x = np.expand_dims(x, axis=0)\n",
    "print(x.shape) #(1, 224, 224, 3)\n",
    "pres = model.predict(x)\n",
    "print(int(pres[0][0]))\n",
    "if int(pres[0][0]) > 0.5:\n",
    "    print('识别的结果是狗')\n",
    "else:\n",
    "    print('识别的结果是猫')\n",
    "##########多张图片的识别##############333\n",
    "file_list = os.listdir('catordog/')\n",
    "images = []\n",
    "\n",
    "for file in file_list:\n",
    "    img = image.load_img(os.path.join('catordog/', file), target_size=(150, 150))\n",
    "    img = image.img_to_array(img)\n",
    "    img = np.expand_dims(img, axis=0)\n",
    "    images.append(img)\n",
    "x_train = np.array(images, dtype=\"float\") / 255.0\n",
    "x = np.concatenate([x for x in x_train])\n",
    "#预测\n",
    "y = model.predict(x)  #根据结果可以看出来，0代表的是猫，1代表的是狗。\n",
    "for i in range(len(file_list)):\n",
    "    print('预测的概率是：',y[i][0])\n",
    "    if y[i][0] > 0.5:\n",
    "        print('图片文件名：{}，识别的结果是:'.format(file_list[i]),'狗')\n",
    "    else:\n",
    "        print('图片文件名：{}，识别的结果是:'.format(file_list[i]), '猫')\n"
   ]
  }
 ],
 "metadata": {
  "kernelspec": {
   "display_name": "Python 3",
   "language": "python",
   "name": "python3"
  },
  "language_info": {
   "codemirror_mode": {
    "name": "ipython",
    "version": 3
   },
   "file_extension": ".py",
   "mimetype": "text/x-python",
   "name": "python",
   "nbconvert_exporter": "python",
   "pygments_lexer": "ipython3",
   "version": "3.6.4"
  }
 },
 "nbformat": 4,
 "nbformat_minor": 4
}
