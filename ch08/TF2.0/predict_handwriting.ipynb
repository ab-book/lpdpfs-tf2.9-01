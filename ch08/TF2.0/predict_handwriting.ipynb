{
 "cells": [
  {
   "cell_type": "code",
   "execution_count": 13,
   "metadata": {},
   "outputs": [
    {
     "data": {
      "image/png": "[encoded data removed]",
      "text/plain": [
       "<Figure size 432x288 with 1 Axes>"
      ]
     },
     "metadata": {
      "needs_background": "light"
     },
     "output_type": "display_data"
    }
   ],
   "source": [
    "%matplotlib inline\n",
    "import numpy as np\n",
    "import matplotlib.pyplot as plt\n",
    "from PIL import Image\n",
    "def pre_pic(picName):\n",
    "    # 先打开传入的原始图片\n",
    "    img = Image.open(picName)\n",
    "    # 使用消除锯齿的方法resize图片\n",
    "    reIm = img.resize((28,28),Image.ANTIALIAS)\n",
    "    # 变成灰度图，转换成矩阵\n",
    "    im_arr = np.array(reIm.convert(\"L\"))\n",
    "    return im_arr\n",
    "testimagefile='testimage.png'\n",
    "testpic = pre_pic(testimagefile)\n",
    "plt.imshow(testpic,cmap=plt.get_cmap('gray'))\n",
    "plt.show()"
   ]
  },
  {
   "cell_type": "code",
   "execution_count": 14,
   "metadata": {
    "scrolled": true
   },
   "outputs": [
    {
     "name": "stdout",
     "output_type": "stream",
     "text": [
      "识别为：\n",
      "[8]\n"
     ]
    }
   ],
   "source": [
    "im = testpic.reshape((1,28,28,1))/ 255\n",
    "from keras.models import load_model\n",
    "modelfile='keras_mnistcnnmodel.h5'\n",
    "model= load_model(modelfile)\n",
    "predict = model.predict_classes(im)\n",
    "print ('识别为：')\n",
    "print (predict)"
   ]
  },
  {
   "cell_type": "code",
   "execution_count": null,
   "metadata": {},
   "outputs": [],
   "source": []
  }
 ],
 "metadata": {
  "kernelspec": {
   "display_name": "Python 3",
   "language": "python",
   "name": "python3"
  },
  "language_info": {
   "codemirror_mode": {
    "name": "ipython",
    "version": 3
   },
   "file_extension": ".py",
   "mimetype": "text/x-python",
   "name": "python",
   "nbconvert_exporter": "python",
   "pygments_lexer": "ipython3",
   "version": "3.6.4"
  }
 },
 "nbformat": 4,
 "nbformat_minor": 2
}
